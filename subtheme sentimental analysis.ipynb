{
  "nbformat": 4,
  "nbformat_minor": 0,
  "metadata": {
    "colab": {
      "provenance": [],
      "mount_file_id": "1bSBQF28OAzax3oJPpdWOQmoNAy2ufzh0",
      "authorship_tag": "ABX9TyN55XyzODt8GjlucZM9Wpaz",
      "include_colab_link": true
    },
    "kernelspec": {
      "name": "python3",
      "display_name": "Python 3"
    },
    "language_info": {
      "name": "python"
    }
  },
  "cells": [
    {
      "cell_type": "markdown",
      "metadata": {
        "id": "view-in-github",
        "colab_type": "text"
      },
      "source": [
        "<a href=\"https://colab.research.google.com/github/Adhini99/Subtheme-Sentimental-Analysis/blob/main/subtheme%20sentimental%20analysis.ipynb\" target=\"_parent\"><img src=\"https://colab.research.google.com/assets/colab-badge.svg\" alt=\"Open In Colab\"/></a>"
      ]
    },
    {
      "cell_type": "code",
      "source": [
        "from google.colab import drive\n",
        "drive.mount('/content/drive')"
      ],
      "metadata": {
        "id": "nc3AZdplWOvs"
      },
      "execution_count": null,
      "outputs": []
    },
    {
      "cell_type": "code",
      "source": [
        "import spacy\n",
        "from nltk.sentiment.vader import SentimentIntensityAnalyzer\n",
        "import nltk\n",
        "from nltk.corpus import stopwords\n",
        "from nltk.tokenize import word_tokenize\n",
        "from nltk.stem import WordNetLemmatizer\n",
        "import pandas as pd\n",
        "\n",
        "# Load spaCy model for dependency parsing and NER\n",
        "nlp = spacy.load('en_core_web_sm')\n",
        "\n",
        "# Initialize NLTK resources\n",
        "nltk.download('vader_lexicon')\n",
        "nltk.download('punkt')\n",
        "nltk.download('stopwords')\n",
        "nltk.download('wordnet')\n",
        "\n",
        "stop_words = set(stopwords.words('english'))\n",
        "lemmatizer = WordNetLemmatizer()\n",
        "sid = SentimentIntensityAnalyzer()\n",
        "\n",
        "# Function to preprocess text\n",
        "def preprocess(text):\n",
        "    tokens = word_tokenize(text)\n",
        "    tokens = [word.lower() for word in tokens if word.isalpha() and word not in stop_words]\n",
        "    tokens = [lemmatizer.lemmatize(token) for token in tokens]\n",
        "    return ' '.join(tokens)\n"
      ],
      "metadata": {
        "colab": {
          "base_uri": "https://localhost:8080/"
        },
        "id": "igwZDryLgZmz",
        "outputId": "a9e162e0-b45a-401c-c49e-df45511c67b7"
      },
      "execution_count": null,
      "outputs": [
        {
          "output_type": "stream",
          "name": "stderr",
          "text": [
            "[nltk_data] Downloading package vader_lexicon to /root/nltk_data...\n",
            "[nltk_data]   Package vader_lexicon is already up-to-date!\n",
            "[nltk_data] Downloading package punkt to /root/nltk_data...\n",
            "[nltk_data]   Package punkt is already up-to-date!\n",
            "[nltk_data] Downloading package stopwords to /root/nltk_data...\n",
            "[nltk_data]   Package stopwords is already up-to-date!\n",
            "[nltk_data] Downloading package wordnet to /root/nltk_data...\n"
          ]
        }
      ]
    },
    {
      "cell_type": "code",
      "source": [
        "# Function to extract aspects and their descriptors\n",
        "def extract_aspects(doc):\n",
        "    aspects = []\n",
        "    for token in doc:\n",
        "        if token.dep_ in ('nsubj', 'dobj') and token.head.pos_ == 'VERB':\n",
        "            aspects.append((token.text, token.head.text))\n",
        "    return aspects\n"
      ],
      "metadata": {
        "id": "oxEbQv8JhRxK"
      },
      "execution_count": null,
      "outputs": []
    },
    {
      "cell_type": "code",
      "source": [
        "# Function to determine sentiment of a phrase\n",
        "def get_sentiment(phrase):\n",
        "    scores = sid.polarity_scores(phrase)\n",
        "    if scores['compound'] >= 0.05:\n",
        "        return 'positive'\n",
        "    elif scores['compound'] <= -0.05:\n",
        "        return 'negative'\n",
        "    else:\n",
        "        return 'neutral'\n"
      ],
      "metadata": {
        "id": "L9wMA3kNhVlS"
      },
      "execution_count": null,
      "outputs": []
    },
    {
      "cell_type": "code",
      "source": [
        "# Function to analyze subtheme sentiments in a review\n",
        "def analyze_review(review):\n",
        "    preprocessed_review = preprocess(review)\n",
        "    doc = nlp(preprocessed_review)\n",
        "    aspects = extract_aspects(doc)\n",
        "    subtheme_sentiments = {}\n",
        "\n",
        "    for aspect, verb in aspects:\n",
        "        sentiment = get_sentiment(f\"{verb} {aspect}\")\n",
        "        subtheme_sentiments[aspect] = sentiment\n",
        "\n",
        "    return subtheme_sentiments"
      ],
      "metadata": {
        "id": "UAY9cO3ulZyB"
      },
      "execution_count": null,
      "outputs": []
    },
    {
      "cell_type": "code",
      "source": [
        "# Load CSV data into a pandas DataFrame\n",
        "def load_data(csv_file):\n",
        "    df = pd.read_csv('/content/drive/MyDrive/Colab Notebooks/Evaluation-dataset.csv', header=None)\n",
        "    return df"
      ],
      "metadata": {
        "id": "LIYzlcBZlipy"
      },
      "execution_count": null,
      "outputs": []
    },
    {
      "cell_type": "code",
      "source": [
        "# Apply analysis to each review in the dataset\n",
        "def analyze_dataset(df):\n",
        "    results = []\n",
        "    for review in df[0]:\n",
        "        result = analyze_review(review)\n",
        "        results.append(result)\n",
        "    return results"
      ],
      "metadata": {
        "id": "NTNL0pFMlv6M"
      },
      "execution_count": null,
      "outputs": []
    },
    {
      "cell_type": "code",
      "source": [
        "# Example usage\n",
        "csv_file = '/content/drive/MyDrive/Colab Notebooks/Evaluation-dataset.csv'"
      ],
      "metadata": {
        "id": "8kDzq-sGmEnR"
      },
      "execution_count": null,
      "outputs": []
    },
    {
      "cell_type": "code",
      "source": [
        "# Load the data\n",
        "df = load_data(csv_file)"
      ],
      "metadata": {
        "id": "w-bltJ6omX5K"
      },
      "execution_count": null,
      "outputs": []
    },
    {
      "cell_type": "code",
      "source": [
        "# Print the first few rows to inspect the structure of the CSV\n",
        "print(df.head())"
      ],
      "metadata": {
        "colab": {
          "base_uri": "https://localhost:8080/"
        },
        "id": "JHAV6_uBm0vZ",
        "outputId": "67393b27-e1ac-4d00-85d1-0d942c47e151"
      },
      "execution_count": null,
      "outputs": [
        {
          "output_type": "stream",
          "name": "stdout",
          "text": [
            "                                                  0   \\\n",
            "0  Tires where delivered to the garage of my choi...   \n",
            "1  Easy Tyre Selection Process, Competitive Prici...   \n",
            "2         Very easy to use and good value for money.   \n",
            "3              Really easy and convenient to arrange   \n",
            "4  It was so easy to select tyre sizes and arrang...   \n",
            "\n",
            "                         1                         2   \\\n",
            "0   garage service positive  ease of booking positive   \n",
            "1   garage service positive  value for money positive   \n",
            "2  value for money positive                       NaN   \n",
            "3  ease of booking positive                       NaN   \n",
            "4         location positive  value for money positive   \n",
            "\n",
            "                         3    4    5    6    7    8    9    10   11   12   13  \\\n",
            "0                       NaN  NaN  NaN  NaN  NaN  NaN  NaN  NaN  NaN  NaN  NaN   \n",
            "1                       NaN  NaN  NaN  NaN  NaN  NaN  NaN  NaN  NaN  NaN  NaN   \n",
            "2                       NaN  NaN  NaN  NaN  NaN  NaN  NaN  NaN  NaN  NaN  NaN   \n",
            "3                       NaN  NaN  NaN  NaN  NaN  NaN  NaN  NaN  NaN  NaN  NaN   \n",
            "4  ease of booking positive  NaN  NaN  NaN  NaN  NaN  NaN  NaN  NaN  NaN  NaN   \n",
            "\n",
            "    14  \n",
            "0  NaN  \n",
            "1  NaN  \n",
            "2  NaN  \n",
            "3  NaN  \n",
            "4  NaN  \n"
          ]
        }
      ]
    },
    {
      "cell_type": "code",
      "source": [
        "# Analyze the dataset\n",
        "results = analyze_dataset(df)"
      ],
      "metadata": {
        "id": "TqIdO9b5oPy2"
      },
      "execution_count": null,
      "outputs": []
    },
    {
      "cell_type": "code",
      "source": [
        "# Add the results to the DataFrame\n",
        "df['subtheme_sentiments'] = results"
      ],
      "metadata": {
        "id": "YYP71DFWot-w"
      },
      "execution_count": null,
      "outputs": []
    },
    {
      "cell_type": "code",
      "source": [
        "# Print the DataFrame with subtheme sentiments\n",
        "print(df)"
      ],
      "metadata": {
        "colab": {
          "base_uri": "https://localhost:8080/"
        },
        "id": "cp_U6GqEo1uB",
        "outputId": "118b4858-1521-453b-d581-d1c2fd65183a"
      },
      "execution_count": null,
      "outputs": [
        {
          "output_type": "stream",
          "name": "stdout",
          "text": [
            "                                                       0  \\\n",
            "0      Tires where delivered to the garage of my choi...   \n",
            "1      Easy Tyre Selection Process, Competitive Prici...   \n",
            "2             Very easy to use and good value for money.   \n",
            "3                  Really easy and convenient to arrange   \n",
            "4      It was so easy to select tyre sizes and arrang...   \n",
            "...                                                  ...   \n",
            "10127  I ordered the wrong tyres, however [REDACTED] ...   \n",
            "10128  Good experience, first time I have used [REDAC...   \n",
            "10129  I ordered the tyre I needed on line, booked a ...   \n",
            "10130  Excellent service from point of order to fitti...   \n",
            "10131  Seamless, well managed at both ends. I would r...   \n",
            "\n",
            "                                1                              2  \\\n",
            "0         garage service positive       ease of booking positive   \n",
            "1         garage service positive       value for money positive   \n",
            "2        value for money positive                            NaN   \n",
            "3        ease of booking positive                            NaN   \n",
            "4               location positive       value for money positive   \n",
            "...                           ...                            ...   \n",
            "10127             refund positive  delivery punctuality positive   \n",
            "10128  length of fitting positive                            NaN   \n",
            "10129           location positive  delivery punctuality positive   \n",
            "10130                         NaN                            NaN   \n",
            "10131                         NaN                            NaN   \n",
            "\n",
            "                                3                         4    5    6    7  \\\n",
            "0                             NaN                       NaN  NaN  NaN  NaN   \n",
            "1                             NaN                       NaN  NaN  NaN  NaN   \n",
            "2                             NaN                       NaN  NaN  NaN  NaN   \n",
            "3                             NaN                       NaN  NaN  NaN  NaN   \n",
            "4        ease of booking positive                       NaN  NaN  NaN  NaN   \n",
            "...                           ...                       ...  ...  ...  ...   \n",
            "10127   refund timescale positive                       NaN  NaN  NaN  NaN   \n",
            "10128                         NaN                       NaN  NaN  NaN  NaN   \n",
            "10129  length of fitting positive  value for money positive  NaN  NaN  NaN   \n",
            "10130                         NaN                       NaN  NaN  NaN  NaN   \n",
            "10131                         NaN                       NaN  NaN  NaN  NaN   \n",
            "\n",
            "         8    9   10   11   12   13   14  \\\n",
            "0      NaN  NaN  NaN  NaN  NaN  NaN  NaN   \n",
            "1      NaN  NaN  NaN  NaN  NaN  NaN  NaN   \n",
            "2      NaN  NaN  NaN  NaN  NaN  NaN  NaN   \n",
            "3      NaN  NaN  NaN  NaN  NaN  NaN  NaN   \n",
            "4      NaN  NaN  NaN  NaN  NaN  NaN  NaN   \n",
            "...    ...  ...  ...  ...  ...  ...  ...   \n",
            "10127  NaN  NaN  NaN  NaN  NaN  NaN  NaN   \n",
            "10128  NaN  NaN  NaN  NaN  NaN  NaN  NaN   \n",
            "10129  NaN  NaN  NaN  NaN  NaN  NaN  NaN   \n",
            "10130  NaN  NaN  NaN  NaN  NaN  NaN  NaN   \n",
            "10131  NaN  NaN  NaN  NaN  NaN  NaN  NaN   \n",
            "\n",
            "                                     subtheme_sentiments  \n",
            "0                                       {'i': 'neutral'}  \n",
            "1                                                     {}  \n",
            "2                                   {'money': 'neutral'}  \n",
            "3                                                     {}  \n",
            "4                                   {'price': 'neutral'}  \n",
            "...                                                  ...  \n",
            "10127  {'i': 'neutral', 'tyre': 'neutral', 'differenc...  \n",
            "10128  {'experience': 'positive', 'i': 'neutral', 'kn...  \n",
            "10129  {'i': 'neutral', 'tyre': 'neutral', 'line': 'n...  \n",
            "10130  {'order': 'positive', 'complaint': 'negative',...  \n",
            "10131                                  {'i': 'positive'}  \n",
            "\n",
            "[10132 rows x 16 columns]\n"
          ]
        }
      ]
    }
  ]
}